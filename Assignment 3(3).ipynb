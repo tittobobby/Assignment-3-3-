{
 "cells": [
  {
   "cell_type": "code",
   "execution_count": 6,
   "id": "73d358ab",
   "metadata": {},
   "outputs": [
    {
     "name": "stdout",
     "output_type": "stream",
     "text": [
      "Enter the string : The quick Brow Fox\n",
      "Number of upper case characters : 3\n",
      "Number of lower case characters : 12\n"
     ]
    }
   ],
   "source": [
    "#Write a Python function that accepts a string and calculate the number of upper case letters and lower case letters.\n",
    "\n",
    "user_input = input(\"Enter the string : \")\n",
    "def lower_upper(n):\n",
    "    count_lower = 0\n",
    "    count_upper = 0\n",
    "    for c in n:\n",
    "        if c.islower():\n",
    "            count_lower+= 1\n",
    "        elif c.isupper():\n",
    "            count_upper+= 1\n",
    "        else:\n",
    "            continue\n",
    "    print(f\"Number of upper case characters : {count_upper}\")\n",
    "    print(f\"Number of lower case characters : {count_lower}\")\n",
    "    \n",
    "lower_upper(user_input)\n",
    "\n",
    "        \n",
    "\n"
   ]
  },
  {
   "cell_type": "code",
   "execution_count": null,
   "id": "ffde171c",
   "metadata": {},
   "outputs": [],
   "source": []
  }
 ],
 "metadata": {
  "kernelspec": {
   "display_name": "Python 3 (ipykernel)",
   "language": "python",
   "name": "python3"
  },
  "language_info": {
   "codemirror_mode": {
    "name": "ipython",
    "version": 3
   },
   "file_extension": ".py",
   "mimetype": "text/x-python",
   "name": "python",
   "nbconvert_exporter": "python",
   "pygments_lexer": "ipython3",
   "version": "3.9.12"
  }
 },
 "nbformat": 4,
 "nbformat_minor": 5
}
